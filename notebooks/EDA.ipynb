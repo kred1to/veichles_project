{
 "cells": [
  {
   "cell_type": "code",
   "execution_count": 1,
   "id": "69735e48",
   "metadata": {},
   "outputs": [],
   "source": [
    "import plotly.express as px\n",
    "import pandas as pd"
   ]
  },
  {
   "cell_type": "code",
   "execution_count": 6,
   "id": "68dd0e5e",
   "metadata": {},
   "outputs": [],
   "source": [
    "car_data = pd.read_csv(r'C:\\Users\\gomes\\OneDrive\\Documentos\\repositórios\\veichle project\\veichles_project\\vehicles.csv')\n"
   ]
  }
 ],
 "metadata": {
  "kernelspec": {
   "display_name": "base",
   "language": "python",
   "name": "python3"
  },
  "language_info": {
   "codemirror_mode": {
    "name": "ipython",
    "version": 3
   },
   "file_extension": ".py",
   "mimetype": "text/x-python",
   "name": "python",
   "nbconvert_exporter": "python",
   "pygments_lexer": "ipython3",
   "version": "3.13.5"
  }
 },
 "nbformat": 4,
 "nbformat_minor": 5
}
